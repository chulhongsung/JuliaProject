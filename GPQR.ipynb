{
 "cells": [
  {
   "cell_type": "code",
   "execution_count": 1,
   "metadata": {},
   "outputs": [
    {
     "name": "stderr",
     "output_type": "stream",
     "text": [
      "┌ Warning: 13 element in a 2 list, assuming it's the last element\n",
      "└ @ RData C:\\Users\\UOS\\.julia\\packages\\RData\\QWOSZ\\src\\readers.jl:138\n",
      "┌ Warning: `getindex(df::DataFrame, col_inds::Union{AbstractVector, Regex, Not})` is deprecated, use `df[:, col_inds]` instead.\n",
      "│   caller = top-level scope at In[1]:10\n",
      "└ @ Core In[1]:10\n"
     ]
    },
    {
     "data": {
      "text/plain": [
       "#3 (generic function with 1 method)"
      ]
     },
     "execution_count": 1,
     "metadata": {},
     "output_type": "execute_result"
    }
   ],
   "source": [
    "using Pkg, RData\n",
    "\n",
    "cd(\"C:\\\\Users\\\\UOS\\\\Desktop\\\\portfolio\\\\dataset\")\n",
    "\n",
    "df_kospi = load(\"kospi_1018.RData\")\n",
    "\n",
    "typeof(df_kospi)\n",
    "\n",
    "keys(df_kospi) ### Dict type의 data에 key를 확인\n",
    "\n",
    "kospi_mat = df_kospi[\"df_kospi_1018\"][2:end,]\n",
    "group_inx = df_kospi[\"group_index\"]\n",
    "\n",
    "### Data type 변환 DF -> Matrix\n",
    "kospi_mat = convert(Matrix, kospi_mat);\n",
    "\n",
    "### log return으로  변환\n",
    "log_return_mat= function(x)\n",
    "    \n",
    "    nrow = size(x)[1]\n",
    "    ncol = size(x)[2]\n",
    "    \n",
    "    lag1 = x[2:end,:]\n",
    "    \n",
    "    log_return_mat = log.(lag1) .- log.(kospi_mat[1:(end-1),:])\n",
    "    \n",
    "    return log_return_mat\n",
    "end"
   ]
  },
  {
   "cell_type": "code",
   "execution_count": 2,
   "metadata": {},
   "outputs": [],
   "source": [
    "rmat = 100 * log_return_mat(kospi_mat)[1:240,:]\n",
    "\n",
    "using Statistics\n",
    "\n",
    "μ̂ = mean(rmat, dims = 1)\n",
    "\n",
    "nrow = size(rmat)[1]\n",
    "ncol = size(rmat)[2]\n",
    "\n",
    "p = ncol; n = nrow"
   ]
  },
  {
   "cell_type": "code",
   "execution_count": 3,
   "metadata": {
    "scrolled": true
   },
   "outputs": [
    {
     "data": {
      "text/plain": [
       "0.08383780003373852"
      ]
     },
     "execution_count": 3,
     "metadata": {},
     "output_type": "execute_result"
    }
   ],
   "source": [
    "mean(μ̂)"
   ]
  },
  {
   "cell_type": "code",
   "execution_count": null,
   "metadata": {},
   "outputs": [],
   "source": [
    "using Random, Distributions, LinearAlgebra"
   ]
  },
  {
   "cell_type": "code",
   "execution_count": 4,
   "metadata": {},
   "outputs": [],
   "source": [
    "μ₀ = 0.05\n",
    "\n",
    "Amat = vcat(Diagonal(ones(p)), Diagonal(ones(p)), ones(p)', μ̂)\n",
    "Bmat = vcat(Diagonal(-1*ones(2*p)), zeros(2*p)', zeros(2*p)')\n",
    "Cmat = vcat(zeros(2*p), 1, μ₀)\n",
    "\n",
    "X̃ = hcat(fill(-1, n), rmat)\n",
    "K = hcat(zeros(p), Diagonal(ones(p)));"
   ]
  },
  {
   "cell_type": "code",
   "execution_count": 5,
   "metadata": {},
   "outputs": [],
   "source": [
    "using StatsBase"
   ]
  },
  {
   "cell_type": "code",
   "execution_count": 16,
   "metadata": {},
   "outputs": [
    {
     "data": {
      "text/plain": [
       "163-element Array{Float64,1}:\n",
       " -0.17860593323067295  \n",
       " -0.017699005277845486 \n",
       "  0.01686876432788773  \n",
       " -0.0007918409608063067\n",
       "  0.027119200970871775 \n",
       " -0.03411985180147096  \n",
       "  0.06280498789578902  \n",
       " -0.020516205246898456 \n",
       " -0.06217333351266974  \n",
       " -0.0294871887528316   \n",
       "  0.050855299908182015 \n",
       " -0.02022207995404149  \n",
       "  0.09389297968427006  \n",
       "  ⋮                    \n",
       " -0.1071550247022715   \n",
       " -0.05238475012883247  \n",
       "  0.007759504334636041 \n",
       "  0.0034761104007631598\n",
       "  0.014562064221140569 \n",
       "  0.018930465161727642 \n",
       "  0.0014825569178330148\n",
       " -0.029776386461299428 \n",
       "  4.400779126282478e-6 \n",
       " -0.0007993062884492301\n",
       "  0.004548163282594424 \n",
       "  0.009004989458189575 "
      ]
     },
     "execution_count": 16,
     "metadata": {},
     "output_type": "execute_result"
    }
   ],
   "source": [
    "ρ = 10; τ = 0.1\n",
    "\n",
    "tmp_z = fill(0, 2*p)/p\n",
    "tmp_u = fill(0, 2*p+2)\n",
    "tmp_β = fill(1, p)/p\n",
    "tmp_β₀ = 1e-5\n",
    "\n",
    "tmp_β̃ = vcat(tmp_β₀, tmp_β);\n",
    "\n",
    "pl = sqrt.(counts(group_inx)); iter_outer = 1000; iter_inner = 100; \n",
    "\n",
    "λ₁ = 0.001; λ₂ = 0.001;\n",
    "\n",
    "let i = 1\n",
    "\n",
    "    while i <= iter_outer\n",
    "\n",
    "        let j = 1 \n",
    "\n",
    "            while j <= iter_inner  \n",
    "\n",
    "                tmp_W = Diagonal(ifelse.(abs.((X̃ * tmp_β̃) * 4) .< 1e-8, 1e+8, abs.(1 ./ ((X̃ * tmp_β̃)*4))))\n",
    "\n",
    "                tmp_β̃ = (-1/2) * inv(X̃' * tmp_W * X̃ + (ρ/2) * (Amat * K)' * (Amat * K)) * ((τ - (1/2)) * X̃' * ones(n) +\n",
    "                    ρ * (Amat*K)' * ((1/ρ)*tmp_u + Bmat*tmp_z - Cmat)) \n",
    "                j += 1\n",
    "            end\n",
    "        end\n",
    "        \n",
    "        tmp_β = tmp_β̃[2:end]\n",
    "\n",
    "        v = (Amat * tmp_β - Cmat)\n",
    "        v₁ = v[1:p]\n",
    "        tmp_z₁ = v₁ + tmp_u[1:p]/ρ\n",
    "\n",
    "        ### Proximal operator\n",
    "        tmp_z₁ = ifelse.(abs.(tmp_z₁) .<= λ₁, 0, tmp_z₁ - λ₁ * sign.(tmp_z₁))\n",
    "\n",
    "        v₂ = v[(p+1):(2*p)]\n",
    "        u₂ = tmp_u[(p+1):(2*p)]\n",
    "\n",
    "        tmp_z₂ = v₂ + u₂/ρ \n",
    "\n",
    "        for l in sort(unique(group_inx))\n",
    "            plₗ = pl[l]\n",
    "            v₂ₗ = v₂[group_inx .== l]\n",
    "            u₂ₗ = u₂[group_inx .== l]\n",
    "\n",
    "            if(norm(tmp_z₂[group_inx .== l], 2) .> λ₂ * plₗ)\n",
    "                tmp_z₂[group_inx .== l] = tmp_z₂[group_inx .== l] - λ₂ * plₗ * tmp_z₂[group_inx .== l] / norm(tmp_z₂[group_inx .== l],2)\n",
    "            else \n",
    "                tmp_z₂[group_inx .== l] .= 0\n",
    "            end\n",
    "        end        \n",
    "\n",
    "        tmp_z = vcat(tmp_z₁, tmp_z₂)\n",
    "\n",
    "        tmp_u = tmp_u + ρ * (Amat * tmp_β + Bmat * tmp_z - Cmat)\n",
    "\n",
    "        i += 1\n",
    "\n",
    "    end\n",
    "    \n",
    "    return tmp_β̃\n",
    "end"
   ]
  },
  {
   "cell_type": "code",
   "execution_count": 17,
   "metadata": {},
   "outputs": [
    {
     "data": {
      "text/plain": [
       "1.0000000236258373"
      ]
     },
     "execution_count": 17,
     "metadata": {},
     "output_type": "execute_result"
    }
   ],
   "source": [
    "sum(tmp_β̃[2:end])"
   ]
  },
  {
   "cell_type": "code",
   "execution_count": 18,
   "metadata": {},
   "outputs": [
    {
     "data": {
      "text/plain": [
       "1-element Array{Float64,1}:\n",
       " 0.04999990166935911"
      ]
     },
     "execution_count": 18,
     "metadata": {},
     "output_type": "execute_result"
    }
   ],
   "source": [
    "μ̂ * tmp_β̃[2:end]"
   ]
  }
 ],
 "metadata": {
  "kernelspec": {
   "display_name": "Julia 1.2.0",
   "language": "julia",
   "name": "julia-1.2"
  },
  "language_info": {
   "file_extension": ".jl",
   "mimetype": "application/julia",
   "name": "julia",
   "version": "1.2.0"
  }
 },
 "nbformat": 4,
 "nbformat_minor": 2
}
